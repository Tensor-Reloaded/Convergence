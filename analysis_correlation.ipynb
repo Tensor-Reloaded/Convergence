{
 "cells": [
  {
   "cell_type": "code",
   "execution_count": 1,
   "metadata": {},
   "outputs": [],
   "source": [
    "import pandas as pd\n",
    "import numpy as np\n",
    "import os\n",
    "import matplotlib.pyplot as plt"
   ]
  },
  {
   "cell_type": "code",
   "execution_count": 117,
   "metadata": {},
   "outputs": [],
   "source": [
    "def get_csv(epoch):\n",
    "    return pd.read_csv(f'outputs++/batches_permutations_model=BasicConv(in_channels=1, out_classes=2)_epoch={epoch}.csv')"
   ]
  },
  {
   "cell_type": "code",
   "execution_count": 118,
   "metadata": {},
   "outputs": [],
   "source": [
    "N_EPOCHS = 13\n",
    "dfs = [get_csv(e) for e in range(N_EPOCHS)]"
   ]
  },
  {
   "cell_type": "code",
   "execution_count": 119,
   "metadata": {},
   "outputs": [],
   "source": [
    "for e in range(N_EPOCHS):\n",
    "    dfs[e] = dfs[e].rename(columns={\n",
    "        'FinalBatches': f'Epoch{e}Batches',\n",
    "        'FinalBatchesIndexes': f'FinalBatchesIndexes_{e}',\n",
    "        'FinalPermutationIndex': f'FinalPermutationIndex_{e}',\n",
    "        'TestLoss': f'TestLoss_{e}',\n",
    "        'TestCorrect': f'TestCorrect_{e}',\n",
    "        'TestTotal': f'TestTotal_{e}',\n",
    "        'TestAcc': f'TestAcc_{e}',\n",
    "    })"
   ]
  },
  {
   "cell_type": "code",
   "execution_count": 120,
   "metadata": {},
   "outputs": [],
   "source": [
    "merged = [dfs[0]]\n",
    "for e in range(1, N_EPOCHS):\n",
    "    new_merged = merged[e - 1].merge(dfs[e], how='inner', on=[f'Epoch{prev_epoch}Batches' for prev_epoch in range(e)])\n",
    "    merged.append(new_merged)"
   ]
  },
  {
   "cell_type": "code",
   "execution_count": 121,
   "metadata": {},
   "outputs": [],
   "source": [
    "def correlations(from_column, to_column, method='pearson', fixed_diff=None):\n",
    "#     print(f'Pearson correlation coefficients from column {from_column} to {to_column}:')\n",
    "    corrs = {'FromEpoch': [], 'ToEpoch': [], 'Correlation': []}\n",
    "    for epoch in range(1, N_EPOCHS):\n",
    "        if fixed_diff is not None:\n",
    "            prev_range = range(max(0, epoch - fixed_diff), epoch - fixed_diff + 1)\n",
    "        else:\n",
    "            also_check_against_same_epoch = 1 if from_column != to_column else 0\n",
    "            prev_range = range(0, epoch + also_check_against_same_epoch)\n",
    "            \n",
    "        for prev_epoch in prev_range:\n",
    "            m = merged[epoch]\n",
    "            corr = m[f'{from_column}_{prev_epoch}'].corr(m[f'{to_column}_{epoch}'])\n",
    "#             print(f'{prev_epoch} -> {epoch}: {corr}')\n",
    "            corrs['FromEpoch'].append(prev_epoch)\n",
    "            corrs['ToEpoch'].append(epoch)\n",
    "            corrs['Correlation'].append(corr)\n",
    "    return pd.DataFrame.from_dict(corrs)"
   ]
  },
  {
   "cell_type": "code",
   "execution_count": 122,
   "metadata": {},
   "outputs": [],
   "source": [
    "def print_corr_all_deltas(corrs):\n",
    "    for d in range(1, 4):\n",
    "        c = corrs[corrs['FromEpoch'] == corrs['ToEpoch'] - d]\n",
    "        n = c.shape[0]\n",
    "        mid = (n + 1) // 2\n",
    "        first_half = c.iloc[:mid]\n",
    "        second_half = c.iloc[mid:]\n",
    "        print(first_half.shape[0], second_half.shape[0])\n",
    "\n",
    "        print(f'd={d} all     : {c[\"Correlation\"].mean()}')\n",
    "        print(f'd={d} 1st half: {first_half[\"Correlation\"].mean()}')\n",
    "        print(f'd={d} 2nd half: {second_half[\"Correlation\"].mean()}')\n",
    "\n",
    "        \n",
    "\n",
    "#         print(f'd={d} all     : {c[\"Correlation\"].mean()}')\n",
    "#         print(f'd={d} 1st half: {first_half[\"Correlation\"].mean()}')\n",
    "#         print(f'd={d} 2nd half: {second_half[\"Correlation\"].mean()}')\n",
    "        \n",
    "        \n",
    "# os.makedirs('csvs', exist_ok=True)\n",
    "# out_csv = 'csvs/corr_loss_loss.csv'\n",
    "# assert not os.path.isfile(out_csv)\n",
    "# corrs.to_csv(out_csv, index=False)"
   ]
  },
  {
   "cell_type": "code",
   "execution_count": 126,
   "metadata": {},
   "outputs": [],
   "source": [
    "corrs = correlations('TestLoss', 'TestLoss', fixed_diff=None)\n",
    "# print_corr_all_deltas(corrs)"
   ]
  },
  {
   "cell_type": "code",
   "execution_count": 131,
   "metadata": {},
   "outputs": [
    {
     "name": "stdout",
     "output_type": "stream",
     "text": [
      "\\begin{table}[H]\n",
      "\\centering\n",
      "\\begin{tabular}{l c c c c}\n",
      "\\cmidrule[2pt]{1-4}\n",
      "\\multirow{1}{*}{\\textbf{DeltaEpoch}} & \\multicolumn{1}{c}{AvgCorrEpochs[1-6]} & \\multicolumn{1}{c}{AvgCorrEpochs[7-13]} & \\multicolumn{1}{c}{AvgCorrEpochs[1-13]} \\\\\n",
      "\\cmidrule{1-4}\n",
      "NaNs: 0\n",
      "\t\\hfill 1 & -0.275 & 0.041 & -0.117 \\\\\n",
      "NaNs: 0\n",
      "\t\\hfill 2 & 0.017 & 0.164 & 0.083 \\\\\n",
      "NaNs: 1\n",
      "\t\\hfill 3 & -0.056 & 0.010 & -0.027 \\\\\n",
      "\\cmidrule{1-4}\n",
      "\\end{tabular}\n",
      "\\caption{Pearson correlations between test losses\\label{tab:correlations_test_losses}}\n",
      "\\end{table}\n"
     ]
    }
   ],
   "source": [
    "corrs = correlations('TestLoss', 'TestLoss', fixed_diff=None)\n",
    "\n",
    "print(r'\\begin{table}[H]')\n",
    "print(r'\\centering')\n",
    "print(r'\\begin{tabular}{l c c c c}')\n",
    "print(r'\\cmidrule[2pt]{1-4}')\n",
    "head = ' & '.join([\n",
    "    r'\\multirow{1}{*}{\\textbf{DeltaEpoch}}',\n",
    "    r'\\multicolumn{1}{c}{AvgCorrEpochs[1-6]}',\n",
    "    r'\\multicolumn{1}{c}{AvgCorrEpochs[7-13]}',\n",
    "    r'\\multicolumn{1}{c}{AvgCorrEpochs[1-13]}',\n",
    "]) + r' \\\\'\n",
    "print(head)\n",
    "print(r'\\cmidrule{1-4}')\n",
    "\n",
    "for d in range(1, 4):\n",
    "    c = corrs[corrs['FromEpoch'] == corrs['ToEpoch'] - d]\n",
    "    print('NaNs:', c['Correlation'].isnull().values.sum()) \n",
    "    n = c.shape[0]\n",
    "    mid = (n + 1) // 2\n",
    "    first_half = c.iloc[:mid]\n",
    "    second_half = c.iloc[mid:]\n",
    "    s = '\\t' + r'\\hfill ' + '{} & {:.3f} & {:.3f} & {:.3f} \\\\\\\\'.format(d, first_half[\"Correlation\"].mean(), second_half[\"Correlation\"].mean(), c[\"Correlation\"].mean())\n",
    "    print(s)\n",
    "#         print(first_half.shape[0], second_half.shape[0])\n",
    "print(r'\\cmidrule{1-4}')\n",
    "print(r'\\end{tabular}')\n",
    "print(r'\\caption{Pearson correlations between test losses\\label{tab:correlations_test_losses}}')\n",
    "print(r'\\end{table}')"
   ]
  },
  {
   "cell_type": "code",
   "execution_count": 83,
   "metadata": {},
   "outputs": [
    {
     "name": "stdout",
     "output_type": "stream",
     "text": [
      "6 6\n",
      "d=1 all     : -0.1079790826382764\n",
      "d=1 1st half: -0.2748973080768131\n",
      "d=1 2nd half: 0.05893914280026033\n",
      "6 5\n",
      "d=2 all     : 0.11139868684314283\n",
      "d=2 1st half: 0.016689350940818647\n",
      "d=2 2nd half: 0.2534626906966291\n",
      "5 5\n",
      "d=3 all     : -0.016342751976741926\n",
      "d=3 1st half: -0.05626907347738348\n",
      "d=3 2nd half: 0.05020111719099401\n"
     ]
    }
   ],
   "source": [
    "corrs = correlations('TestAcc', 'TestAcc')\n",
    "print_corr_all_deltas(corrs)"
   ]
  },
  {
   "cell_type": "code",
   "execution_count": 68,
   "metadata": {},
   "outputs": [],
   "source": [
    "corrs = correlations('TestAcc', 'TestAcc')\n",
    "os.makedirs('csvs', exist_ok=True)\n",
    "out_csv = 'csvs/corr_test_acc_test_acc.csv'\n",
    "assert not os.path.isfile(out_csv)\n",
    "corrs.to_csv(out_csv, index=False)"
   ]
  },
  {
   "cell_type": "code",
   "execution_count": 36,
   "metadata": {},
   "outputs": [],
   "source": [
    "os.makedirs('plots', exist_ok=True)"
   ]
  },
  {
   "cell_type": "code",
   "execution_count": 133,
   "metadata": {},
   "outputs": [
    {
     "data": {
      "image/png": "[encoded data removed]",
      "text/plain": [
       "<Figure size 432x288 with 1 Axes>"
      ]
     },
     "metadata": {
      "needs_background": "light"
     },
     "output_type": "display_data"
    }
   ],
   "source": [
    "for i in range(N_EPOCHS):\n",
    "    plt.clf()\n",
    "    plt.title(f'Test accuracy distribution after {i+1} {\"epoch\" if i == 0 else \"epochs\"}')\n",
    "    plt.hist(merged[i][f'TestAcc_{i}'], bins=30)\n",
    "    plt.xlabel('Test Accuracy')\n",
    "    plt.ylabel('Count')\n",
    "    plt.tight_layout()\n",
    "    out_png = f'plots/test_acc_dist_after_{i+1}_epochs.png'\n",
    "    assert not os.path.isfile(out_png)\n",
    "    plt.savefig(out_png)\n",
    "#     plt.show()"
   ]
  },
  {
   "cell_type": "code",
   "execution_count": 134,
   "metadata": {},
   "outputs": [],
   "source": [
    "means = [dfs[i][f'TestAcc_{i}'].mean() for i in range(N_EPOCHS)]\n",
    "meds  = [dfs[i][f'TestAcc_{i}'].median() for i in range(N_EPOCHS)]\n",
    "maxs  = [dfs[i][f'TestAcc_{i}'].max() for i in range(N_EPOCHS)]\n",
    "mins  = [dfs[i][f'TestAcc_{i}'].min() for i in range(N_EPOCHS)]"
   ]
  },
  {
   "cell_type": "code",
   "execution_count": 136,
   "metadata": {},
   "outputs": [
    {
     "data": {
      "image/png": "[encoded data removed]",
      "text/plain": [
       "<Figure size 432x288 with 1 Axes>"
      ]
     },
     "metadata": {
      "needs_background": "light"
     },
     "output_type": "display_data"
    }
   ],
   "source": [
    "x = range(1, N_EPOCHS + 1)\n",
    "plt.plot(x, mins, label='Min')\n",
    "# plt.plot(means, label='Mean')\n",
    "plt.plot(x, meds, label='Median')\n",
    "plt.plot(x, maxs, label='Max')\n",
    "\n",
    "plt.xticks(x)\n",
    "plt.xlabel('After N epochs')\n",
    "plt.ylabel('Test Accuracy')\n",
    "plt.grid()\n",
    "plt.legend()\n",
    "plt.tight_layout()\n",
    "out_png = 'plots/test_acc_all_epochs.png'\n",
    "assert not os.path.isfile(out_png)\n",
    "plt.savefig(out_png)"
   ]
  },
  {
   "cell_type": "code",
   "execution_count": 54,
   "metadata": {},
   "outputs": [
    {
     "name": "stdout",
     "output_type": "stream",
     "text": [
      "0.67138671875 0.77197265625 0.7755398220486112 0.9033203125\n",
      "0.8935546875 0.939453125 0.937208726671007 0.9609375\n",
      "0.95947265625 0.966796875 0.9663064139229911 0.97119140625\n",
      "0.96484375 0.97265625 0.9726129441034226 0.9755859375\n",
      "0.97216796875 0.97509765625 0.9762707907056052 0.98046875\n",
      "0.97509765625 0.98046875 0.9798473539806548 0.982421875\n",
      "0.97900390625 0.9814453125 0.98154296875 0.98486328125\n",
      "0.9755859375 0.9833984375 0.9834171355716765 0.9873046875\n",
      "0.978515625 0.9873046875 0.9870466928633432 0.990234375\n",
      "0.97607421875 0.9892578125 0.9888883560422868 0.9921875\n",
      "0.97900390625 0.99072265625 0.9895095582992312 0.9931640625\n",
      "0.986328125 0.9921875 0.9912748790922619 0.994140625\n",
      "0.9912109375 0.99365234375 0.9933253046291978 0.99462890625\n"
     ]
    }
   ],
   "source": [
    "for mn, md, mean, mx in zip(mins, meds, means, maxs):\n",
    "    print(mn, md, mean, mx)"
   ]
  },
  {
   "cell_type": "code",
   "execution_count": 139,
   "metadata": {},
   "outputs": [
    {
     "name": "stdout",
     "output_type": "stream",
     "text": [
      "best_prev_vs_med(4) = 1\n",
      "best_prev_vs_med(5) = 1\n",
      "best_prev_vs_med(6) = 1\n",
      "best_prev_vs_med(7) = 1\n",
      "best_prev_vs_med(8) = 1\n",
      "best_prev_vs_med(9) = 1\n",
      "best_prev_vs_med(10) = 1\n",
      "best_prev_vs_med(11) = 2\n",
      "best_prev_vs_med(12) = 1\n"
     ]
    }
   ],
   "source": [
    "for i in range(N_EPOCHS):\n",
    "    best_prev_vs_med = i\n",
    "    best_prev_vs_min = i\n",
    "    best_prev_vs_avg = i\n",
    "    for prev in range(i - 1, 0, -1):\n",
    "        if maxs[prev] >= mins[i]:\n",
    "            best_prev_vs_min = prev\n",
    "        if maxs[prev] >= meds[i]:\n",
    "            best_prev_vs_med = prev\n",
    "        if maxs[prev] >= means[i]:\n",
    "            best_prev_vs_avg = prev\n",
    "    if best_prev_vs_med != i:\n",
    "        print(f'best_prev_vs_med({i}) = {i - best_prev_vs_med}')\n",
    "#     if best_prev_vs_avg != i:\n",
    "#         print(f'best_prev_vs_avg({i}) = {i - best_prev_vs_avg}')\n",
    "#     if best_prev_vs_min != i:\n",
    "#         print(f'best_prev_vs_min({i}) = {i - best_prev_vs_min}')"
   ]
  },
  {
   "cell_type": "code",
   "execution_count": 140,
   "metadata": {},
   "outputs": [
    {
     "name": "stdout",
     "output_type": "stream",
     "text": [
      "\\begin{table}[H]\n",
      "\\centering\n",
      "\\begin{tabular}{l c c c c c c}\n",
      "\\cmidrule[2pt]{1-6}\n",
      "\\multirow{1}{*}{\\textbf{Epoch}} & \\multicolumn{1}{c}{Min Accuracy} & \\multicolumn{1}{c}{Mean Accuracy} & \\multicolumn{1}{c}{Max Accuracy} & \\multicolumn{1}{c}{Min Loss} & \\multicolumn{1}{c}{Max Loss} \\\\\n",
      "\\cmidrule{1-6}\n",
      "\t\\hfill 1 & 0.671 & 0.776 & 0.903 & 2.393 & 2.449 \\\\\n",
      "\t\\hfill 2 & 0.894 & 0.937 & 0.961 & 1.643 & 1.714 \\\\\n",
      "\t\\hfill 3 & 0.959 & 0.966 & 0.971 & 0.983 & 1.023 \\\\\n",
      "\t\\hfill 4 & 0.965 & 0.973 & 0.976 & 0.626 & 0.767 \\\\\n",
      "\t\\hfill 5 & 0.972 & 0.976 & 0.980 & 0.431 & 0.582 \\\\\n",
      "\t\\hfill 6 & 0.975 & 0.980 & 0.982 & 0.322 & 0.429 \\\\\n",
      "\t\\hfill 7 & 0.979 & 0.982 & 0.985 & 0.254 & 0.294 \\\\\n",
      "\t\\hfill 8 & 0.976 & 0.983 & 0.987 & 0.217 & 0.324 \\\\\n",
      "\t\\hfill 9 & 0.979 & 0.987 & 0.990 & 0.190 & 0.294 \\\\\n",
      "\t\\hfill 10 & 0.976 & 0.989 & 0.992 & 0.178 & 0.345 \\\\\n",
      "\t\\hfill 11 & 0.979 & 0.990 & 0.993 & 0.162 & 0.320 \\\\\n",
      "\t\\hfill 12 & 0.986 & 0.991 & 0.994 & 0.144 & 0.237 \\\\\n",
      "\t\\hfill 13 & 0.984 & 0.994 & 0.995 & 0.126 & 0.269 \\\\\n",
      "\\cmidrule{1-6}\n",
      "\\end{tabular}\n",
      "\\caption{Summary of results on test data after each epoch\\label{tab:summary}}\n",
      "\\end{table}\n"
     ]
    }
   ],
   "source": [
    "# \\begin{tabular}{l c c c c c}\n",
    "#     \\cmidrule[2pt]{1-5} %\\toprule\n",
    "#     \\multirow{1}{*}{\\textbf{Epochs}} & \\multicolumn{1}{c}{Max Accuracy} & \\multicolumn{1}{c}{Min Accuracy} & \\multicolumn{1}{c}{Max Loss} & \\multicolumn{1}{c}{Min Loss} \\\\ \n",
    "#     \\cmidrule{1-5}\n",
    "#     \\hfill 1 & 0.9033203125 & 0.6713867188 & 2.449115098 & 2.393164754 \\\\\n",
    "\n",
    "#     \\hfill 2 & 0.9609375 & 0.8935546875 & 1.71363318 & 1.643359601 \\\\\n",
    "\n",
    "#     \\hfill 3 & 0.9711914063 & 0.9594726563 & 1.023167834 & 0.9834425896 \\\\\n",
    "\n",
    "#     \\hfill 4 & 0.9755859375 & 0.96484375 & 0.7668097764 & 0.6259695292 \\\\\n",
    "#     \\cmidrule[2pt]{1-5}\n",
    "# \\end{tabular}\n",
    "\n",
    "# means = [dfs[i][f'TestAcc_{i}'].mean() for i in range(N_EPOCHS)]\n",
    "# meds  = [dfs[i][f'TestAcc_{i}'].median() for i in range(N_EPOCHS)]\n",
    "# maxs  = [dfs[i][f'TestAcc_{i}'].max() for i in range(N_EPOCHS)]\n",
    "# mins  = [dfs[i][f'TestAcc_{i}'].min() for i in range(N_EPOCHS)]\n",
    "\n",
    "print(r'\\begin{table}[H]')\n",
    "print(r'\\centering')\n",
    "print(r'\\begin{tabular}{l c c c c c c}')\n",
    "print(r'\\cmidrule[2pt]{1-6}')\n",
    "head = ' & '.join([\n",
    "    r'\\multirow{1}{*}{\\textbf{Epoch}}',\n",
    "    r'\\multicolumn{1}{c}{Min Accuracy}',\n",
    "    r'\\multicolumn{1}{c}{Mean Accuracy}',\n",
    "    r'\\multicolumn{1}{c}{Max Accuracy}',\n",
    "    r'\\multicolumn{1}{c}{Min Loss}',\n",
    "    r'\\multicolumn{1}{c}{Max Loss}',\n",
    "]) + r' \\\\'\n",
    "print(head)\n",
    "print(r'\\cmidrule{1-6}')\n",
    "for e in range(N_EPOCHS):\n",
    "    acc = dfs[e][f'TestAcc_{e}']\n",
    "    loss = dfs[e][f'TestLoss_{e}']\n",
    "    s = '\\t' + r'\\hfill ' + '{} & {:.3f} & {:.3f} & {:.3f} & {:.3f} & {:.3f} \\\\\\\\'.format(e+1, acc.min(), acc.mean(), acc.max(), loss.min(), loss.max())\n",
    "    print(s)\n",
    "print(r'\\cmidrule{1-6}')\n",
    "print(r'\\end{tabular}')\n",
    "print(r'\\caption{Summary of results on test data after each epoch\\label{tab:summary}}')\n",
    "print(r'\\end{table}')"
   ]
  },
  {
   "cell_type": "code",
   "execution_count": null,
   "metadata": {},
   "outputs": [],
   "source": []
  }
 ],
 "metadata": {
  "kernelspec": {
   "display_name": "Python 3",
   "language": "python",
   "name": "python3"
  },
  "language_info": {
   "codemirror_mode": {
    "name": "ipython",
    "version": 3
   },
   "file_extension": ".py",
   "mimetype": "text/x-python",
   "name": "python",
   "nbconvert_exporter": "python",
   "pygments_lexer": "ipython3",
   "version": "3.6.8"
  }
 },
 "nbformat": 4,
 "nbformat_minor": 4
}
