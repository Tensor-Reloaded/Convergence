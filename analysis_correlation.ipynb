{
 "cells": [
  {
   "cell_type": "code",
   "execution_count": 7,
   "metadata": {},
   "outputs": [],
   "source": [
    "import pandas as pd\n",
    "import numpy as np\n",
    "import os"
   ]
  },
  {
   "cell_type": "code",
   "execution_count": 8,
   "metadata": {},
   "outputs": [],
   "source": [
    "def get_csv(epoch):\n",
    "    return pd.read_csv(f'outputs++/batches_permutations_model=BasicConv(in_channels=1, out_classes=2)_epoch={epoch}.csv')"
   ]
  },
  {
   "cell_type": "code",
   "execution_count": 11,
   "metadata": {},
   "outputs": [],
   "source": [
    "N_EPOCHS = 4\n",
    "dfs = [get_csv(e) for e in range(N_EPOCHS)]"
   ]
  },
  {
   "cell_type": "code",
   "execution_count": 25,
   "metadata": {},
   "outputs": [],
   "source": [
    "for e in range(N_EPOCHS):\n",
    "    dfs[e] = dfs[e].rename(columns={\n",
    "        'FinalBatches': f'Epoch{e}Batches',\n",
    "        'FinalBatchesIndexes': f'FinalBatchesIndexes_{e}',\n",
    "        'FinalPermutationIndex': f'FinalPermutationIndex_{e}',\n",
    "        'TestLoss': f'TestLoss_{e}',\n",
    "        'TestCorrect': f'TestCorrect_{e}',\n",
    "        'TestTotal': f'TestTotal_{e}',\n",
    "        'TestAcc': f'TestAcc_{e}',\n",
    "    })"
   ]
  },
  {
   "cell_type": "code",
   "execution_count": 37,
   "metadata": {},
   "outputs": [],
   "source": [
    "merged = [dfs[0]]\n",
    "for e in range(1, N_EPOCHS):\n",
    "    new_merged = merged[e - 1].merge(dfs[e], how='inner', on=[f'Epoch{prev_epoch}Batches' for prev_epoch in range(e)])\n",
    "    merged.append(new_merged)"
   ]
  },
  {
   "cell_type": "code",
   "execution_count": 66,
   "metadata": {},
   "outputs": [],
   "source": [
    "def correlations(from_column, to_column, method='pearson'):\n",
    "    print(f'Pearson correlation coefficients from column {from_column} to {to_column}:')\n",
    "    for epoch in range(1, N_EPOCHS):\n",
    "        also_check_against_same_epoch = 1 if from_column != to_column else 0\n",
    "        for prev_epoch in range(0, epoch + also_check_against_same_epoch):\n",
    "            m = merged[epoch]\n",
    "            corr = m[f'{from_column}_{prev_epoch}'].corr(m[f'{to_column}_{epoch}'])\n",
    "            print(f'{prev_epoch} -> {epoch}: {corr}')"
   ]
  },
  {
   "cell_type": "code",
   "execution_count": 67,
   "metadata": {},
   "outputs": [
    {
     "name": "stdout",
     "output_type": "stream",
     "text": [
      "Pearson correlation coefficients from column TestLoss to TestLoss:\n",
      "0 -> 1: 0.6871795552340948\n",
      "0 -> 2: 0.8268248636252998\n",
      "1 -> 2: 0.7771881458742893\n",
      "0 -> 3: 0.24946785419223927\n",
      "1 -> 3: 0.28847612325368366\n",
      "2 -> 3: -0.036370899064337846\n"
     ]
    }
   ],
   "source": [
    "correlations('TestLoss', 'TestLoss')"
   ]
  },
  {
   "cell_type": "code",
   "execution_count": 72,
   "metadata": {},
   "outputs": [
    {
     "name": "stdout",
     "output_type": "stream",
     "text": [
      "Pearson correlation coefficients from column TestLoss to TestAcc:\n",
      "0 -> 1: 0.09094643306554057\n",
      "1 -> 1: -0.3877568461755002\n",
      "0 -> 2: -0.057317081776166054\n",
      "1 -> 2: -0.023018521093933632\n",
      "2 -> 2: -0.028496220858925107\n",
      "0 -> 3: -0.2201780857908947\n",
      "1 -> 3: -0.1931862308796712\n",
      "2 -> 3: -0.17395836541612233\n",
      "3 -> 3: -0.5027137066795899\n"
     ]
    }
   ],
   "source": [
    "correlations('TestLoss', 'TestAcc')"
   ]
  },
  {
   "cell_type": "code",
   "execution_count": 73,
   "metadata": {},
   "outputs": [
    {
     "name": "stdout",
     "output_type": "stream",
     "text": [
      "Pearson correlation coefficients from column TestAcc to TestAcc:\n",
      "0 -> 1: -0.7180258968952054\n",
      "0 -> 2: -0.12965851753541172\n",
      "1 -> 2: -0.35723846089139905\n",
      "0 -> 3: -0.11191876812452033\n",
      "1 -> 3: 0.2689754896046859\n",
      "2 -> 3: -0.08864235299323987\n"
     ]
    }
   ],
   "source": [
    "correlations('TestAcc', 'TestAcc')"
   ]
  },
  {
   "cell_type": "code",
   "execution_count": null,
   "metadata": {},
   "outputs": [],
   "source": []
  }
 ],
 "metadata": {
  "kernelspec": {
   "display_name": "Python 3",
   "language": "python",
   "name": "python3"
  },
  "language_info": {
   "codemirror_mode": {
    "name": "ipython",
    "version": 3
   },
   "file_extension": ".py",
   "mimetype": "text/x-python",
   "name": "python",
   "nbconvert_exporter": "python",
   "pygments_lexer": "ipython3",
   "version": "3.6.8"
  }
 },
 "nbformat": 4,
 "nbformat_minor": 4
}
